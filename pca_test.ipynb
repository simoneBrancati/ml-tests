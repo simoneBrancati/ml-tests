{
 "cells": [
  {
   "cell_type": "code",
   "execution_count": null,
   "metadata": {},
   "outputs": [],
   "source": [
    "import pandas as pd\n",
    "import numpy as np\n",
    "from sklearn.decomposition import PCA\n",
    "from sklearn import preprocessing\n",
    "import matplotlib.pyplot as plt"
   ]
  },
  {
   "cell_type": "markdown",
   "metadata": {},
   "source": [
    "### Prepara il dataset\n",
    "* Converti file csv in un'istanza di `pandas.DataFrame()`\n",
    "* Usa l'id dell'annuncio come indice di ogni riga\n",
    "* Usa prezzo, locali, superficie e bagni come indice di ogni colonna\n",
    "* Rimuovi le righe in cui sono presenti valori nulli"
   ]
  },
  {
   "cell_type": "code",
   "execution_count": null,
   "metadata": {
    "tags": [
     "INPUT"
    ]
   },
   "outputs": [],
   "source": [
    "INPUT = \"path/to/ml-tests/data/output.csv\"\n",
    "#converti csv in pandas dataframe usando id come indice di riga\n",
    "#e prezzo, locali, superficie e bagni come indice di colonna\n",
    "data = pd.read_csv(INPUT, index_col='id', usecols=[\"id\", \"prezzo\", \"locali\", \"superficie\", \"bagni\"])\n",
    "#rimuovi le righe che contengono valori nulli (NaN)\n",
    "data = data.dropna(axis=0, how='any', thresh=None, subset=None, inplace=False)"
   ]
  },
  {
   "cell_type": "code",
   "execution_count": null,
   "metadata": {},
   "outputs": [],
   "source": [
    "#Mostra i primi 5 valori nel dataframe\n",
    "print(data.head())\n",
    "#Mostra la dimensione del dataframe\n",
    "print(f\"\\nDataframe dimensions: {data.shape}\")"
   ]
  },
  {
   "cell_type": "markdown",
   "metadata": {},
   "source": [
    "### Standardizzazione dei dati\n",
    "Prima di applicare l'algoritmo PCA bisogna standardizzare i dati.  \n",
    "Ciò vuol dire che bisogna centrarli e scalarli in modo che le unità di misura differenti non influiscono nell'algoritmo.  \n",
    "Dopo la standardizzazione il valore medio di ogni riga sarà 0 e la deviazione standard per i valori di ogni casa sarà 1."
   ]
  },
  {
   "cell_type": "code",
   "execution_count": null,
   "metadata": {},
   "outputs": [],
   "source": [
    "scaled_data = preprocessing.scale(data.T)"
   ]
  },
  {
   "cell_type": "markdown",
   "metadata": {},
   "source": [
    "### Applica l'algoritmo di Principal Component Analysis ai dati standardizzati\n",
    "* model-fitting\n",
    "* applica la riduzione delle dimensioni (transform)"
   ]
  },
  {
   "cell_type": "code",
   "execution_count": null,
   "metadata": {},
   "outputs": [],
   "source": [
    "pca = PCA()\n",
    "pca.fit(scaled_data)\n",
    "pca_data = pca.transform(scaled_data)"
   ]
  },
  {
   "cell_type": "markdown",
   "metadata": {},
   "source": [
    "### SCREE PLOT\n",
    "Lo scree plot serve a capire quanto contribuisce ognuno dei principal component alla percentuale di varianza"
   ]
  },
  {
   "cell_type": "code",
   "execution_count": null,
   "metadata": {},
   "outputs": [],
   "source": [
    "#varianza in percentuale per il plot\n",
    "per_var = np.round(pca.explained_variance_ratio_ * 100, decimals=1)\n",
    "#crea le label del grafico\n",
    "labels = [\"PC\" + str(x) for x in range(1, len(per_var)+1)]\n",
    "#crea grafico a barre\n",
    "plt.bar(x=range(1, len(per_var)+1), height=per_var, tick_label = labels)\n",
    "#imposta i nomi degli assi\n",
    "plt.ylabel(\"Percentage of explained variance\")\n",
    "plt.xlabel(\"Principal Component\")\n",
    "#titolo\n",
    "plt.title(\"Scree plot\")\n",
    "#infine mostra il grafico\n",
    "plt.show()"
   ]
  },
  {
   "cell_type": "markdown",
   "metadata": {},
   "source": [
    "**In questo caso specifico il prezzo contribuisce al 100% della varianza tra i componenti**"
   ]
  },
  {
   "cell_type": "markdown",
   "metadata": {},
   "source": [
    "### SCATTER PLOT\n",
    "Inserire le nuove coordinate create da pca transform in una matrice dove le righe hanno le label dei sample e le colonne hanno le label dei Principal Components"
   ]
  },
  {
   "cell_type": "code",
   "execution_count": null,
   "metadata": {},
   "outputs": [],
   "source": [
    "pca_df = pd.DataFrame(pca_data, index=[\"prezzo\", \"locali\", \"superficie\", \"bagni\"], columns = labels)\n",
    "#scatter plot\n",
    "plt.scatter(pca_df.PC1, pca_df.PC2)\n",
    "plt.title(\"PCA Graph\")\n",
    "plt.xlabel(f\"PC1 - {per_var[0]}%\")\n",
    "plt.ylabel(f\"PC2 - {per_var[1]}%\")\n",
    "#add sample names to the graph\n",
    "for sample in pca_df.index:\n",
    "    plt.annotate(sample, (pca_df.PC1.loc[sample], pca_df.PC2.loc[sample]))\n",
    "plt.show()"
   ]
  },
  {
   "cell_type": "code",
   "execution_count": null,
   "metadata": {},
   "outputs": [],
   "source": []
  }
 ],
 "metadata": {
  "celltoolbar": "Tags",
  "kernelspec": {
   "display_name": "Python 3",
   "language": "python",
   "name": "python3"
  },
  "language_info": {
   "codemirror_mode": {
    "name": "ipython",
    "version": 3
   },
   "file_extension": ".py",
   "mimetype": "text/x-python",
   "name": "python",
   "nbconvert_exporter": "python",
   "pygments_lexer": "ipython3",
   "version": "3.7.5rc1"
  }
 },
 "nbformat": 4,
 "nbformat_minor": 2
}
