{
 "cells": [
  {
   "cell_type": "markdown",
   "metadata": {},
   "source": [
    "## FEATURE SELECTION\n",
    "Feature selection consists in selecting which features are the most important relative to the output variable(s).  \n",
    "Feature selections helps to:\n",
    "* reduce overfitting\n",
    "* improve accuracy\n",
    "* reduce training time"
   ]
  },
  {
   "cell_type": "code",
   "execution_count": 29,
   "metadata": {},
   "outputs": [],
   "source": [
    "import pandas as pd\n",
    "import numpy as np\n",
    "import seaborn as sns\n",
    "import matplotlib.pyplot as plt"
   ]
  },
  {
   "cell_type": "markdown",
   "metadata": {},
   "source": [
    "### DATASET PREPARATION"
   ]
  },
  {
   "cell_type": "code",
   "execution_count": 30,
   "metadata": {},
   "outputs": [
    {
     "data": {
      "text/html": [
       "<div>\n",
       "<style scoped>\n",
       "    .dataframe tbody tr th:only-of-type {\n",
       "        vertical-align: middle;\n",
       "    }\n",
       "\n",
       "    .dataframe tbody tr th {\n",
       "        vertical-align: top;\n",
       "    }\n",
       "\n",
       "    .dataframe thead th {\n",
       "        text-align: right;\n",
       "    }\n",
       "</style>\n",
       "<table border=\"1\" class=\"dataframe\">\n",
       "  <thead>\n",
       "    <tr style=\"text-align: right;\">\n",
       "      <th></th>\n",
       "      <th>locali</th>\n",
       "      <th>superficie</th>\n",
       "      <th>bagni</th>\n",
       "      <th>prezzo</th>\n",
       "    </tr>\n",
       "    <tr>\n",
       "      <th>id</th>\n",
       "      <th></th>\n",
       "      <th></th>\n",
       "      <th></th>\n",
       "      <th></th>\n",
       "    </tr>\n",
       "  </thead>\n",
       "  <tbody>\n",
       "    <tr>\n",
       "      <th>64524238</th>\n",
       "      <td>5.0</td>\n",
       "      <td>450.0</td>\n",
       "      <td>3.0</td>\n",
       "      <td>445000.0</td>\n",
       "    </tr>\n",
       "    <tr>\n",
       "      <th>75218140</th>\n",
       "      <td>4.0</td>\n",
       "      <td>100.0</td>\n",
       "      <td>2.0</td>\n",
       "      <td>105000.0</td>\n",
       "    </tr>\n",
       "    <tr>\n",
       "      <th>76068666</th>\n",
       "      <td>5.0</td>\n",
       "      <td>150.0</td>\n",
       "      <td>2.0</td>\n",
       "      <td>99000.0</td>\n",
       "    </tr>\n",
       "    <tr>\n",
       "      <th>74789894</th>\n",
       "      <td>5.0</td>\n",
       "      <td>161.0</td>\n",
       "      <td>3.0</td>\n",
       "      <td>270000.0</td>\n",
       "    </tr>\n",
       "    <tr>\n",
       "      <th>74757644</th>\n",
       "      <td>5.0</td>\n",
       "      <td>550.0</td>\n",
       "      <td>2.0</td>\n",
       "      <td>185000.0</td>\n",
       "    </tr>\n",
       "    <tr>\n",
       "      <th>...</th>\n",
       "      <td>...</td>\n",
       "      <td>...</td>\n",
       "      <td>...</td>\n",
       "      <td>...</td>\n",
       "    </tr>\n",
       "    <tr>\n",
       "      <th>76297024</th>\n",
       "      <td>3.0</td>\n",
       "      <td>100.0</td>\n",
       "      <td>1.0</td>\n",
       "      <td>130000.0</td>\n",
       "    </tr>\n",
       "    <tr>\n",
       "      <th>75346604</th>\n",
       "      <td>3.0</td>\n",
       "      <td>90.0</td>\n",
       "      <td>1.0</td>\n",
       "      <td>320000.0</td>\n",
       "    </tr>\n",
       "    <tr>\n",
       "      <th>73341564</th>\n",
       "      <td>4.0</td>\n",
       "      <td>160.0</td>\n",
       "      <td>1.0</td>\n",
       "      <td>100000.0</td>\n",
       "    </tr>\n",
       "    <tr>\n",
       "      <th>75088158</th>\n",
       "      <td>3.0</td>\n",
       "      <td>90.0</td>\n",
       "      <td>2.0</td>\n",
       "      <td>125000.0</td>\n",
       "    </tr>\n",
       "    <tr>\n",
       "      <th>75565044</th>\n",
       "      <td>3.0</td>\n",
       "      <td>90.0</td>\n",
       "      <td>1.0</td>\n",
       "      <td>70000.0</td>\n",
       "    </tr>\n",
       "  </tbody>\n",
       "</table>\n",
       "<p>558 rows × 4 columns</p>\n",
       "</div>"
      ],
      "text/plain": [
       "          locali  superficie  bagni    prezzo\n",
       "id                                           \n",
       "64524238     5.0       450.0    3.0  445000.0\n",
       "75218140     4.0       100.0    2.0  105000.0\n",
       "76068666     5.0       150.0    2.0   99000.0\n",
       "74789894     5.0       161.0    3.0  270000.0\n",
       "74757644     5.0       550.0    2.0  185000.0\n",
       "...          ...         ...    ...       ...\n",
       "76297024     3.0       100.0    1.0  130000.0\n",
       "75346604     3.0        90.0    1.0  320000.0\n",
       "73341564     4.0       160.0    1.0  100000.0\n",
       "75088158     3.0        90.0    2.0  125000.0\n",
       "75565044     3.0        90.0    1.0   70000.0\n",
       "\n",
       "[558 rows x 4 columns]"
      ]
     },
     "execution_count": 30,
     "metadata": {},
     "output_type": "execute_result"
    }
   ],
   "source": [
    "data = pd.read_csv(\"data/test_dataset.csv\", index_col=\"id\")\n",
    "#remove rows with null values\n",
    "data = data.dropna(axis=0, how='any', thresh=None, subset=None, inplace=False)\n",
    "#riordina il dataset mettendo il prezzo come ultima colonna (il prezzo sarà il target value)\n",
    "cols = data.columns.tolist()\n",
    "cols = cols[1:] + cols[:1]\n",
    "data = data[cols]\n",
    "data"
   ]
  },
  {
   "cell_type": "code",
   "execution_count": 31,
   "metadata": {},
   "outputs": [
    {
     "name": "stdout",
     "output_type": "stream",
     "text": [
      "Index(['locali', 'superficie', 'bagni'], dtype='object')\n"
     ]
    }
   ],
   "source": [
    "#select features\n",
    "features = data.columns[:3]\n",
    "print(features)"
   ]
  },
  {
   "cell_type": "code",
   "execution_count": 47,
   "metadata": {},
   "outputs": [
    {
     "data": {
      "text/plain": [
       "(          locali  superficie  bagni\n",
       " id                                 \n",
       " 64524238     5.0       450.0    3.0\n",
       " 75218140     4.0       100.0    2.0\n",
       " 76068666     5.0       150.0    2.0\n",
       " 74789894     5.0       161.0    3.0\n",
       " 74757644     5.0       550.0    2.0\n",
       " ...          ...         ...    ...\n",
       " 76297024     3.0       100.0    1.0\n",
       " 75346604     3.0        90.0    1.0\n",
       " 73341564     4.0       160.0    1.0\n",
       " 75088158     3.0        90.0    2.0\n",
       " 75565044     3.0        90.0    1.0\n",
       " \n",
       " [558 rows x 3 columns], id\n",
       " 64524238    445000.0\n",
       " 75218140    105000.0\n",
       " 76068666     99000.0\n",
       " 74789894    270000.0\n",
       " 74757644    185000.0\n",
       "               ...   \n",
       " 76297024    130000.0\n",
       " 75346604    320000.0\n",
       " 73341564    100000.0\n",
       " 75088158    125000.0\n",
       " 75565044     70000.0\n",
       " Name: prezzo, Length: 558, dtype: float64)"
      ]
     },
     "execution_count": 47,
     "metadata": {},
     "output_type": "execute_result"
    }
   ],
   "source": [
    "#X is the input variable\n",
    "#y is the predicted or output variable\n",
    "X = data[features]\n",
    "y = data[\"prezzo\"]\n",
    "X, y"
   ]
  },
  {
   "cell_type": "markdown",
   "metadata": {},
   "source": [
    "## FEATURE SELECTION WITH FEATURE IMPORTANCE\n",
    "Can be computed using the feature importance property of the model"
   ]
  },
  {
   "cell_type": "code",
   "execution_count": 48,
   "metadata": {},
   "outputs": [
    {
     "name": "stdout",
     "output_type": "stream",
     "text": [
      "[0.07564066 0.87158109 0.05277826]\n"
     ]
    },
    {
     "name": "stderr",
     "output_type": "stream",
     "text": [
      "/home/simone/MachineLearning/VirtualEnvironments/ml_sklearn/lib/python3.7/site-packages/sklearn/ensemble/forest.py:245: FutureWarning: The default value of n_estimators will change from 10 in version 0.20 to 100 in 0.22.\n",
      "  \"10 in version 0.20 to 100 in 0.22.\", FutureWarning)\n"
     ]
    }
   ],
   "source": [
    "from sklearn.ensemble import ExtraTreesClassifier\n",
    "model = ExtraTreesClassifier()\n",
    "model.fit(X, y)\n",
    "print(model.feature_importances_)"
   ]
  },
  {
   "cell_type": "code",
   "execution_count": 51,
   "metadata": {},
   "outputs": [
    {
     "data": {
      "image/png": "[encoded data removed]",
      "text/plain": [
       "<Figure size 432x288 with 1 Axes>"
      ]
     },
     "metadata": {
      "needs_background": "light"
     },
     "output_type": "display_data"
    }
   ],
   "source": [
    "%matplotlib inline\n",
    "\n",
    "feat_importances = pd.Series(model.feature_importances_, index=X.columns)\n",
    "feat_importances.nlargest(3).plot(kind='barh')\n",
    "plt.show()"
   ]
  },
  {
   "cell_type": "markdown",
   "metadata": {},
   "source": [
    "## FEATURE SELECTION WITH CORRELATION MATRIX AND HEATMAP\n",
    "Correlation matrix is used to show how much features are correlated to each other"
   ]
  },
  {
   "cell_type": "code",
   "execution_count": 73,
   "metadata": {},
   "outputs": [
    {
     "data": {
      "image/png": "[encoded data removed]",
      "text/plain": [
       "<Figure size 360x288 with 2 Axes>"
      ]
     },
     "metadata": {
      "needs_background": "light"
     },
     "output_type": "display_data"
    }
   ],
   "source": [
    "#get correlations\n",
    "correlation_mtx = data.corr()\n",
    "top_correlated_feat = correlation_mtx.index\n",
    "plt.figure(figsize=(5, 4))\n",
    "#plot heat map\n",
    "g = sns.heatmap(data[top_correlated_feat].corr(), annot=True, cmap=\"RdYlGn\")"
   ]
  },
  {
   "cell_type": "code",
   "execution_count": null,
   "metadata": {},
   "outputs": [],
   "source": []
  }
 ],
 "metadata": {
  "kernelspec": {
   "display_name": "ml_sklearn",
   "language": "python",
   "name": "ml_sklearn"
  },
  "language_info": {
   "codemirror_mode": {
    "name": "ipython",
    "version": 3
   },
   "file_extension": ".py",
   "mimetype": "text/x-python",
   "name": "python",
   "nbconvert_exporter": "python",
   "pygments_lexer": "ipython3",
   "version": "3.7.5rc1"
  }
 },
 "nbformat": 4,
 "nbformat_minor": 2
}
